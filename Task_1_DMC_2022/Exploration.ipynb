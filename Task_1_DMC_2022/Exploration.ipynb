{
 "cells": [
  {
   "cell_type": "markdown",
   "id": "5d9c334c",
   "metadata": {},
   "source": [
    "# DMC 2022 - Exploration\n",
    "\n",
    "You can download the data [here](https://www.data-mining-cup.com/dmc-2022/).\n",
    "\n",
    "## Data Loading"
   ]
  },
  {
   "cell_type": "code",
   "execution_count": 1,
   "id": "d99c01aa",
   "metadata": {},
   "outputs": [],
   "source": [
    "import ast\n",
    "\n",
    "import pandas as pd\n",
    "\n",
    "\n",
    "# unnecessary options (hinted in task, but default or recognized by pandas): header=0, escapechar=None, encoding='utf-8'\n",
    "category_hierarchy = pd.read_csv('data/category_hierarchy.csv', sep='|')\n",
    "items = pd.read_csv('data/items.csv', sep='|')\n",
    "items['categories'] = items['categories'].fillna('[]').apply(ast.literal_eval)  # make proper list\n",
    "orders = pd.read_csv('data/orders.csv', sep='|')\n",
    "submission = pd.read_csv('data/submission.csv', sep='|')"
   ]
  },
  {
   "cell_type": "markdown",
   "id": "cbc580ed",
   "metadata": {},
   "source": [
    "## Category Hierarchy "
   ]
  },
  {
   "cell_type": "code",
   "execution_count": 2,
   "id": "42b72b06",
   "metadata": {},
   "outputs": [
    {
     "data": {
      "text/html": [
       "<div>\n",
       "<style scoped>\n",
       "    .dataframe tbody tr th:only-of-type {\n",
       "        vertical-align: middle;\n",
       "    }\n",
       "\n",
       "    .dataframe tbody tr th {\n",
       "        vertical-align: top;\n",
       "    }\n",
       "\n",
       "    .dataframe thead th {\n",
       "        text-align: right;\n",
       "    }\n",
       "</style>\n",
       "<table border=\"1\" class=\"dataframe\">\n",
       "  <thead>\n",
       "    <tr style=\"text-align: right;\">\n",
       "      <th></th>\n",
       "      <th>category</th>\n",
       "      <th>parent_category</th>\n",
       "    </tr>\n",
       "  </thead>\n",
       "  <tbody>\n",
       "    <tr>\n",
       "      <th>0</th>\n",
       "      <td>0</td>\n",
       "      <td>75</td>\n",
       "    </tr>\n",
       "    <tr>\n",
       "      <th>1</th>\n",
       "      <td>1</td>\n",
       "      <td>1499</td>\n",
       "    </tr>\n",
       "    <tr>\n",
       "      <th>2</th>\n",
       "      <td>2</td>\n",
       "      <td>1082</td>\n",
       "    </tr>\n",
       "    <tr>\n",
       "      <th>3</th>\n",
       "      <td>3</td>\n",
       "      <td>3498</td>\n",
       "    </tr>\n",
       "    <tr>\n",
       "      <th>4</th>\n",
       "      <td>4</td>\n",
       "      <td>1623</td>\n",
       "    </tr>\n",
       "    <tr>\n",
       "      <th>...</th>\n",
       "      <td>...</td>\n",
       "      <td>...</td>\n",
       "    </tr>\n",
       "    <tr>\n",
       "      <th>4327</th>\n",
       "      <td>4295</td>\n",
       "      <td>3898</td>\n",
       "    </tr>\n",
       "    <tr>\n",
       "      <th>4328</th>\n",
       "      <td>4296</td>\n",
       "      <td>3898</td>\n",
       "    </tr>\n",
       "    <tr>\n",
       "      <th>4329</th>\n",
       "      <td>4297</td>\n",
       "      <td>3898</td>\n",
       "    </tr>\n",
       "    <tr>\n",
       "      <th>4330</th>\n",
       "      <td>4298</td>\n",
       "      <td>3898</td>\n",
       "    </tr>\n",
       "    <tr>\n",
       "      <th>4331</th>\n",
       "      <td>4299</td>\n",
       "      <td>3898</td>\n",
       "    </tr>\n",
       "  </tbody>\n",
       "</table>\n",
       "<p>4332 rows × 2 columns</p>\n",
       "</div>"
      ],
      "text/plain": [
       "      category  parent_category\n",
       "0            0               75\n",
       "1            1             1499\n",
       "2            2             1082\n",
       "3            3             3498\n",
       "4            4             1623\n",
       "...        ...              ...\n",
       "4327      4295             3898\n",
       "4328      4296             3898\n",
       "4329      4297             3898\n",
       "4330      4298             3898\n",
       "4331      4299             3898\n",
       "\n",
       "[4332 rows x 2 columns]"
      ]
     },
     "execution_count": 2,
     "metadata": {},
     "output_type": "execute_result"
    }
   ],
   "source": [
    "category_hierarchy"
   ]
  },
  {
   "cell_type": "code",
   "execution_count": 3,
   "id": "e11f7956",
   "metadata": {},
   "outputs": [
    {
     "name": "stdout",
     "output_type": "stream",
     "text": [
      "Number of categories: 4300\n",
      "Number of parent categories: 697\n"
     ]
    }
   ],
   "source": [
    "print('Number of categories:', category_hierarchy['category'].nunique())\n",
    "print('Number of parent categories:', category_hierarchy['parent_category'].nunique())"
   ]
  },
  {
   "cell_type": "markdown",
   "id": "3e904358",
   "metadata": {},
   "source": [
    "A few categories have two or three parent categories, while most categories only have one parent category:"
   ]
  },
  {
   "cell_type": "code",
   "execution_count": 4,
   "id": "c7f66328",
   "metadata": {},
   "outputs": [
    {
     "data": {
      "text/plain": [
       "1    4269\n",
       "2      30\n",
       "3       1\n",
       "Name: category, dtype: int64"
      ]
     },
     "execution_count": 4,
     "metadata": {},
     "output_type": "execute_result"
    }
   ],
   "source": [
    "category_hierarchy['category'].value_counts().value_counts()"
   ]
  },
  {
   "cell_type": "markdown",
   "id": "d20c9b51",
   "metadata": {},
   "source": [
    "Many parent categories only have few subcategories, though some have more:"
   ]
  },
  {
   "cell_type": "code",
   "execution_count": 5,
   "id": "1c120ae8",
   "metadata": {},
   "outputs": [
    {
     "data": {
      "text/plain": [
       "3898    486\n",
       "2364    173\n",
       "2231     35\n",
       "3027     28\n",
       "1666     26\n",
       "       ... \n",
       "1321      1\n",
       "2113      1\n",
       "3691      1\n",
       "22        1\n",
       "3897      1\n",
       "Name: parent_category, Length: 697, dtype: int64"
      ]
     },
     "execution_count": 5,
     "metadata": {},
     "output_type": "execute_result"
    }
   ],
   "source": [
    "category_hierarchy['parent_category'].value_counts()"
   ]
  },
  {
   "cell_type": "code",
   "execution_count": 6,
   "id": "f39485d0",
   "metadata": {},
   "outputs": [
    {
     "data": {
      "text/plain": [
       "count    697.0\n",
       "mean       6.2\n",
       "std       19.7\n",
       "min        1.0\n",
       "25%        3.0\n",
       "50%        4.0\n",
       "75%        7.0\n",
       "max      486.0\n",
       "Name: parent_category, dtype: float64"
      ]
     },
     "execution_count": 6,
     "metadata": {},
     "output_type": "execute_result"
    }
   ],
   "source": [
    "category_hierarchy['parent_category'].value_counts().describe().round(1)"
   ]
  },
  {
   "cell_type": "markdown",
   "id": "6a45772a",
   "metadata": {},
   "source": [
    "## Items"
   ]
  },
  {
   "cell_type": "code",
   "execution_count": 7,
   "id": "bd46514c",
   "metadata": {},
   "outputs": [
    {
     "data": {
      "text/html": [
       "<div>\n",
       "<style scoped>\n",
       "    .dataframe tbody tr th:only-of-type {\n",
       "        vertical-align: middle;\n",
       "    }\n",
       "\n",
       "    .dataframe tbody tr th {\n",
       "        vertical-align: top;\n",
       "    }\n",
       "\n",
       "    .dataframe thead th {\n",
       "        text-align: right;\n",
       "    }\n",
       "</style>\n",
       "<table border=\"1\" class=\"dataframe\">\n",
       "  <thead>\n",
       "    <tr style=\"text-align: right;\">\n",
       "      <th></th>\n",
       "      <th>itemID</th>\n",
       "      <th>brand</th>\n",
       "      <th>feature_1</th>\n",
       "      <th>feature_2</th>\n",
       "      <th>feature_3</th>\n",
       "      <th>feature_4</th>\n",
       "      <th>feature_5</th>\n",
       "      <th>categories</th>\n",
       "    </tr>\n",
       "  </thead>\n",
       "  <tbody>\n",
       "    <tr>\n",
       "      <th>0</th>\n",
       "      <td>22665</td>\n",
       "      <td>861</td>\n",
       "      <td>4</td>\n",
       "      <td>0</td>\n",
       "      <td>490</td>\n",
       "      <td>2</td>\n",
       "      <td>66</td>\n",
       "      <td>[2890, 855, 3908, 3909]</td>\n",
       "    </tr>\n",
       "    <tr>\n",
       "      <th>1</th>\n",
       "      <td>28640</td>\n",
       "      <td>1366</td>\n",
       "      <td>10</td>\n",
       "      <td>1</td>\n",
       "      <td>537</td>\n",
       "      <td>0</td>\n",
       "      <td>101</td>\n",
       "      <td>[]</td>\n",
       "    </tr>\n",
       "    <tr>\n",
       "      <th>2</th>\n",
       "      <td>13526</td>\n",
       "      <td>1090</td>\n",
       "      <td>10</td>\n",
       "      <td>0</td>\n",
       "      <td>511</td>\n",
       "      <td>0</td>\n",
       "      <td>0</td>\n",
       "      <td>[3270, 163, 284, 1694, 12, 3837, 2422, 3595, 3...</td>\n",
       "    </tr>\n",
       "    <tr>\n",
       "      <th>3</th>\n",
       "      <td>21399</td>\n",
       "      <td>1090</td>\n",
       "      <td>10</td>\n",
       "      <td>1</td>\n",
       "      <td>511</td>\n",
       "      <td>0</td>\n",
       "      <td>0</td>\n",
       "      <td>[3270]</td>\n",
       "    </tr>\n",
       "    <tr>\n",
       "      <th>4</th>\n",
       "      <td>8504</td>\n",
       "      <td>768</td>\n",
       "      <td>4</td>\n",
       "      <td>1</td>\n",
       "      <td>484</td>\n",
       "      <td>0</td>\n",
       "      <td>66</td>\n",
       "      <td>[2470]</td>\n",
       "    </tr>\n",
       "    <tr>\n",
       "      <th>...</th>\n",
       "      <td>...</td>\n",
       "      <td>...</td>\n",
       "      <td>...</td>\n",
       "      <td>...</td>\n",
       "      <td>...</td>\n",
       "      <td>...</td>\n",
       "      <td>...</td>\n",
       "      <td>...</td>\n",
       "    </tr>\n",
       "    <tr>\n",
       "      <th>32771</th>\n",
       "      <td>12036</td>\n",
       "      <td>1383</td>\n",
       "      <td>10</td>\n",
       "      <td>0</td>\n",
       "      <td>503</td>\n",
       "      <td>0</td>\n",
       "      <td>101</td>\n",
       "      <td>[3502, 1088, 2004, 691, 3422, 2308, 308, 3688,...</td>\n",
       "    </tr>\n",
       "    <tr>\n",
       "      <th>32772</th>\n",
       "      <td>22709</td>\n",
       "      <td>567</td>\n",
       "      <td>4</td>\n",
       "      <td>2</td>\n",
       "      <td>491</td>\n",
       "      <td>3</td>\n",
       "      <td>66</td>\n",
       "      <td>[3900, 3905, 3903, 3910, 1807, 274, 1467, 914]</td>\n",
       "    </tr>\n",
       "    <tr>\n",
       "      <th>32773</th>\n",
       "      <td>32322</td>\n",
       "      <td>1385</td>\n",
       "      <td>10</td>\n",
       "      <td>1</td>\n",
       "      <td>500</td>\n",
       "      <td>0</td>\n",
       "      <td>37</td>\n",
       "      <td>[2686, 2609, 725]</td>\n",
       "    </tr>\n",
       "    <tr>\n",
       "      <th>32774</th>\n",
       "      <td>19118</td>\n",
       "      <td>1113</td>\n",
       "      <td>6</td>\n",
       "      <td>2</td>\n",
       "      <td>491</td>\n",
       "      <td>0</td>\n",
       "      <td>117</td>\n",
       "      <td>[3900, 3910, 3903, 2473, 914, 274]</td>\n",
       "    </tr>\n",
       "    <tr>\n",
       "      <th>32775</th>\n",
       "      <td>16083</td>\n",
       "      <td>1111</td>\n",
       "      <td>4</td>\n",
       "      <td>3</td>\n",
       "      <td>485</td>\n",
       "      <td>3</td>\n",
       "      <td>16</td>\n",
       "      <td>[3900, 3901, 3905, 3902, 3903, 3910, 2473, 2470]</td>\n",
       "    </tr>\n",
       "  </tbody>\n",
       "</table>\n",
       "<p>32776 rows × 8 columns</p>\n",
       "</div>"
      ],
      "text/plain": [
       "       itemID  brand  feature_1  feature_2  feature_3  feature_4  feature_5  \\\n",
       "0       22665    861          4          0        490          2         66   \n",
       "1       28640   1366         10          1        537          0        101   \n",
       "2       13526   1090         10          0        511          0          0   \n",
       "3       21399   1090         10          1        511          0          0   \n",
       "4        8504    768          4          1        484          0         66   \n",
       "...       ...    ...        ...        ...        ...        ...        ...   \n",
       "32771   12036   1383         10          0        503          0        101   \n",
       "32772   22709    567          4          2        491          3         66   \n",
       "32773   32322   1385         10          1        500          0         37   \n",
       "32774   19118   1113          6          2        491          0        117   \n",
       "32775   16083   1111          4          3        485          3         16   \n",
       "\n",
       "                                              categories  \n",
       "0                                [2890, 855, 3908, 3909]  \n",
       "1                                                     []  \n",
       "2      [3270, 163, 284, 1694, 12, 3837, 2422, 3595, 3...  \n",
       "3                                                 [3270]  \n",
       "4                                                 [2470]  \n",
       "...                                                  ...  \n",
       "32771  [3502, 1088, 2004, 691, 3422, 2308, 308, 3688,...  \n",
       "32772     [3900, 3905, 3903, 3910, 1807, 274, 1467, 914]  \n",
       "32773                                  [2686, 2609, 725]  \n",
       "32774                 [3900, 3910, 3903, 2473, 914, 274]  \n",
       "32775   [3900, 3901, 3905, 3902, 3903, 3910, 2473, 2470]  \n",
       "\n",
       "[32776 rows x 8 columns]"
      ]
     },
     "execution_count": 7,
     "metadata": {},
     "output_type": "execute_result"
    }
   ],
   "source": [
    "items"
   ]
  },
  {
   "cell_type": "markdown",
   "id": "8f34947a",
   "metadata": {},
   "source": [
    "Each `itemID` only occurs once, which makes sense:"
   ]
  },
  {
   "cell_type": "code",
   "execution_count": 8,
   "id": "e09c5e27",
   "metadata": {},
   "outputs": [
    {
     "data": {
      "text/plain": [
       "True"
      ]
     },
     "execution_count": 8,
     "metadata": {},
     "output_type": "execute_result"
    }
   ],
   "source": [
    "len(items) == items['itemID'].nunique()"
   ]
  },
  {
   "cell_type": "markdown",
   "id": "3c004e28",
   "metadata": {},
   "source": [
    "Distribution of brands is rather imbalanced, some of them occur in > 100 items, but most of them only occurs a few times, as there are many brands in the dataset:"
   ]
  },
  {
   "cell_type": "code",
   "execution_count": 9,
   "id": "64d13b6d",
   "metadata": {},
   "outputs": [
    {
     "data": {
      "text/plain": [
       "322     1780\n",
       "1040     390\n",
       "1383     343\n",
       "1111     329\n",
       "406      327\n",
       "        ... \n",
       "757        1\n",
       "1310       1\n",
       "118        1\n",
       "1068       1\n",
       "96         1\n",
       "Name: brand, Length: 1515, dtype: int64"
      ]
     },
     "execution_count": 9,
     "metadata": {},
     "output_type": "execute_result"
    }
   ],
   "source": [
    "items['brand'].value_counts()"
   ]
  },
  {
   "cell_type": "code",
   "execution_count": 10,
   "id": "fb53cc64",
   "metadata": {},
   "outputs": [
    {
     "data": {
      "text/plain": [
       "count    1515.0\n",
       "mean       21.6\n",
       "std        62.3\n",
       "min         1.0\n",
       "25%         1.0\n",
       "50%         4.0\n",
       "75%        17.0\n",
       "max      1780.0\n",
       "Name: brand, dtype: float64"
      ]
     },
     "execution_count": 10,
     "metadata": {},
     "output_type": "execute_result"
    }
   ],
   "source": [
    "items['brand'].value_counts().describe().round(1)"
   ]
  },
  {
   "cell_type": "markdown",
   "id": "00a42179",
   "metadata": {},
   "source": [
    "The dataset has five categorical features, for which `-1` marks missing values.\n",
    "\n",
    "Three of the features only have a few values:"
   ]
  },
  {
   "cell_type": "code",
   "execution_count": 11,
   "id": "5a0f3cef",
   "metadata": {},
   "outputs": [
    {
     "data": {
      "image/png": "[encoded data removed]",
      "text/plain": [
       "<Figure size 432x288 with 1 Axes>"
      ]
     },
     "metadata": {
      "needs_background": "light"
     },
     "output_type": "display_data"
    },
    {
     "data": {
      "image/png": "[encoded data removed]",
      "text/plain": [
       "<Figure size 432x288 with 1 Axes>"
      ]
     },
     "metadata": {
      "needs_background": "light"
     },
     "output_type": "display_data"
    },
    {
     "data": {
      "image/png": "[encoded data removed]",
      "text/plain": [
       "<Figure size 432x288 with 1 Axes>"
      ]
     },
     "metadata": {
      "needs_background": "light"
     },
     "output_type": "display_data"
    }
   ],
   "source": [
    "import matplotlib.pyplot as plt\n",
    "\n",
    "for feature_id in [1, 2, 4]:\n",
    "    items[f'feature_{feature_id}'].value_counts().sort_index().plot.bar(title=f'Feature {feature_id}')\n",
    "    plt.show()"
   ]
  },
  {
   "cell_type": "markdown",
   "id": "7b429f85",
   "metadata": {},
   "source": [
    "The two remaining features have more distinct values, which also show an imbalanced distribution:"
   ]
  },
  {
   "cell_type": "code",
   "execution_count": 12,
   "id": "1a68fd3c",
   "metadata": {},
   "outputs": [
    {
     "name": "stdout",
     "output_type": "stream",
     "text": [
      "count     540.0\n",
      "mean       60.7\n",
      "std       263.3\n",
      "min         1.0\n",
      "25%         3.0\n",
      "50%         9.5\n",
      "75%        28.0\n",
      "max      3964.0\n",
      "Name: feature_3, dtype: float64\n",
      "\n",
      "count     192.0\n",
      "mean      170.7\n",
      "std       451.1\n",
      "min         1.0\n",
      "25%         9.0\n",
      "50%        38.0\n",
      "75%       143.5\n",
      "max      4264.0\n",
      "Name: feature_5, dtype: float64\n",
      "\n"
     ]
    }
   ],
   "source": [
    "for feature_id in [3, 5]:\n",
    "    print(items[f'feature_{feature_id}'].value_counts().describe().round(1))\n",
    "    print()"
   ]
  },
  {
   "cell_type": "markdown",
   "id": "26b64a60",
   "metadata": {},
   "source": [
    "Items might belong to zero, one, or multiple categories:"
   ]
  },
  {
   "cell_type": "code",
   "execution_count": 13,
   "id": "af1c4bbd",
   "metadata": {},
   "outputs": [
    {
     "data": {
      "text/plain": [
       "0     6788\n",
       "1     6564\n",
       "2     6877\n",
       "3     4447\n",
       "4     2696\n",
       "5     1689\n",
       "6     1220\n",
       "7      863\n",
       "8      555\n",
       "9      308\n",
       "10     246\n",
       "11     166\n",
       "12     116\n",
       "13      83\n",
       "14      50\n",
       "15      34\n",
       "16      22\n",
       "17      14\n",
       "18       7\n",
       "19       6\n",
       "20       7\n",
       "21       5\n",
       "22       5\n",
       "23       2\n",
       "24       1\n",
       "25       1\n",
       "29       1\n",
       "33       2\n",
       "35       1\n",
       "Name: categories, dtype: int64"
      ]
     },
     "execution_count": 13,
     "metadata": {},
     "output_type": "execute_result"
    }
   ],
   "source": [
    "items['categories'].apply(len).value_counts().sort_index()"
   ]
  },
  {
   "cell_type": "markdown",
   "id": "c11eac57",
   "metadata": {},
   "source": [
    "Most categories only appear for a few items, some categories (including \"no category\") appear for a significant number of items:"
   ]
  },
  {
   "cell_type": "code",
   "execution_count": 14,
   "id": "108b0987",
   "metadata": {},
   "outputs": [
    {
     "data": {
      "text/plain": [
       "-1       6788\n",
       " 3903    1596\n",
       " 3900    1547\n",
       " 3901    1467\n",
       " 3902    1179\n",
       "         ... \n",
       " 500        1\n",
       " 2506       1\n",
       " 3602       1\n",
       " 3247       1\n",
       " 440        1\n",
       "Name: categories, Length: 3361, dtype: int64"
      ]
     },
     "execution_count": 14,
     "metadata": {},
     "output_type": "execute_result"
    }
   ],
   "source": [
    "items['categories'].explode().fillna(-1).value_counts()"
   ]
  },
  {
   "cell_type": "code",
   "execution_count": 15,
   "id": "3f7f872c",
   "metadata": {},
   "outputs": [
    {
     "data": {
      "text/plain": [
       "count    3361.0\n",
       "mean       26.7\n",
       "std       138.2\n",
       "min         1.0\n",
       "25%         3.0\n",
       "50%         7.0\n",
       "75%        19.0\n",
       "max      6788.0\n",
       "Name: categories, dtype: float64"
      ]
     },
     "execution_count": 15,
     "metadata": {},
     "output_type": "execute_result"
    }
   ],
   "source": [
    "items['categories'].explode().fillna(-1).value_counts().describe().round(1)"
   ]
  },
  {
   "cell_type": "markdown",
   "id": "3d65fc56",
   "metadata": {},
   "source": [
    "## Orders"
   ]
  },
  {
   "cell_type": "code",
   "execution_count": 16,
   "id": "3058cdb7",
   "metadata": {},
   "outputs": [
    {
     "data": {
      "text/html": [
       "<div>\n",
       "<style scoped>\n",
       "    .dataframe tbody tr th:only-of-type {\n",
       "        vertical-align: middle;\n",
       "    }\n",
       "\n",
       "    .dataframe tbody tr th {\n",
       "        vertical-align: top;\n",
       "    }\n",
       "\n",
       "    .dataframe thead th {\n",
       "        text-align: right;\n",
       "    }\n",
       "</style>\n",
       "<table border=\"1\" class=\"dataframe\">\n",
       "  <thead>\n",
       "    <tr style=\"text-align: right;\">\n",
       "      <th></th>\n",
       "      <th>date</th>\n",
       "      <th>userID</th>\n",
       "      <th>itemID</th>\n",
       "      <th>order</th>\n",
       "    </tr>\n",
       "  </thead>\n",
       "  <tbody>\n",
       "    <tr>\n",
       "      <th>0</th>\n",
       "      <td>2020-06-01</td>\n",
       "      <td>38769</td>\n",
       "      <td>3477</td>\n",
       "      <td>1</td>\n",
       "    </tr>\n",
       "    <tr>\n",
       "      <th>1</th>\n",
       "      <td>2020-06-01</td>\n",
       "      <td>42535</td>\n",
       "      <td>30474</td>\n",
       "      <td>1</td>\n",
       "    </tr>\n",
       "    <tr>\n",
       "      <th>2</th>\n",
       "      <td>2020-06-01</td>\n",
       "      <td>42535</td>\n",
       "      <td>15833</td>\n",
       "      <td>1</td>\n",
       "    </tr>\n",
       "    <tr>\n",
       "      <th>3</th>\n",
       "      <td>2020-06-01</td>\n",
       "      <td>42535</td>\n",
       "      <td>20131</td>\n",
       "      <td>1</td>\n",
       "    </tr>\n",
       "    <tr>\n",
       "      <th>4</th>\n",
       "      <td>2020-06-01</td>\n",
       "      <td>42535</td>\n",
       "      <td>4325</td>\n",
       "      <td>1</td>\n",
       "    </tr>\n",
       "    <tr>\n",
       "      <th>...</th>\n",
       "      <td>...</td>\n",
       "      <td>...</td>\n",
       "      <td>...</td>\n",
       "      <td>...</td>\n",
       "    </tr>\n",
       "    <tr>\n",
       "      <th>1071533</th>\n",
       "      <td>2021-01-31</td>\n",
       "      <td>22114</td>\n",
       "      <td>29567</td>\n",
       "      <td>2</td>\n",
       "    </tr>\n",
       "    <tr>\n",
       "      <th>1071534</th>\n",
       "      <td>2021-01-31</td>\n",
       "      <td>22114</td>\n",
       "      <td>21068</td>\n",
       "      <td>1</td>\n",
       "    </tr>\n",
       "    <tr>\n",
       "      <th>1071535</th>\n",
       "      <td>2021-01-31</td>\n",
       "      <td>10900</td>\n",
       "      <td>18270</td>\n",
       "      <td>1</td>\n",
       "    </tr>\n",
       "    <tr>\n",
       "      <th>1071536</th>\n",
       "      <td>2021-01-31</td>\n",
       "      <td>17894</td>\n",
       "      <td>31265</td>\n",
       "      <td>5</td>\n",
       "    </tr>\n",
       "    <tr>\n",
       "      <th>1071537</th>\n",
       "      <td>2021-01-31</td>\n",
       "      <td>25974</td>\n",
       "      <td>17983</td>\n",
       "      <td>1</td>\n",
       "    </tr>\n",
       "  </tbody>\n",
       "</table>\n",
       "<p>1071538 rows × 4 columns</p>\n",
       "</div>"
      ],
      "text/plain": [
       "               date  userID  itemID  order\n",
       "0        2020-06-01   38769    3477      1\n",
       "1        2020-06-01   42535   30474      1\n",
       "2        2020-06-01   42535   15833      1\n",
       "3        2020-06-01   42535   20131      1\n",
       "4        2020-06-01   42535    4325      1\n",
       "...             ...     ...     ...    ...\n",
       "1071533  2021-01-31   22114   29567      2\n",
       "1071534  2021-01-31   22114   21068      1\n",
       "1071535  2021-01-31   10900   18270      1\n",
       "1071536  2021-01-31   17894   31265      5\n",
       "1071537  2021-01-31   25974   17983      1\n",
       "\n",
       "[1071538 rows x 4 columns]"
      ]
     },
     "execution_count": 16,
     "metadata": {},
     "output_type": "execute_result"
    }
   ],
   "source": [
    "orders"
   ]
  },
  {
   "cell_type": "markdown",
   "id": "70341844",
   "metadata": {},
   "source": [
    "The demand for items is imbalanced, many only occur in a few transactions:"
   ]
  },
  {
   "cell_type": "code",
   "execution_count": 17,
   "id": "200889b8",
   "metadata": {
    "scrolled": true
   },
   "outputs": [
    {
     "data": {
      "text/plain": [
       "29657    10446\n",
       "18630     8513\n",
       "20131     4963\n",
       "16059     4377\n",
       "11251     4343\n",
       "         ...  \n",
       "9883         1\n",
       "20621        1\n",
       "20386        1\n",
       "9672         1\n",
       "11196        1\n",
       "Name: itemID, Length: 31756, dtype: int64"
      ]
     },
     "execution_count": 17,
     "metadata": {},
     "output_type": "execute_result"
    }
   ],
   "source": [
    "orders['itemID'].value_counts()"
   ]
  },
  {
   "cell_type": "code",
   "execution_count": 18,
   "id": "c6578b02",
   "metadata": {},
   "outputs": [
    {
     "data": {
      "text/plain": [
       "count    31756.0\n",
       "mean        33.7\n",
       "std        143.5\n",
       "min          1.0\n",
       "25%          2.0\n",
       "50%          5.0\n",
       "75%         20.0\n",
       "max      10446.0\n",
       "Name: itemID, dtype: float64"
      ]
     },
     "execution_count": 18,
     "metadata": {},
     "output_type": "execute_result"
    }
   ],
   "source": [
    "orders['itemID'].value_counts().describe().round(1)"
   ]
  },
  {
   "cell_type": "markdown",
   "id": "867ee85c",
   "metadata": {},
   "source": [
    "If a user orders something on a certain date, they typically order just a few distinct items:"
   ]
  },
  {
   "cell_type": "code",
   "execution_count": 19,
   "id": "af6f6a91",
   "metadata": {},
   "outputs": [
    {
     "data": {
      "text/plain": [
       "1     91611\n",
       "2     86888\n",
       "3     71081\n",
       "4     46793\n",
       "5     26931\n",
       "6     15249\n",
       "7      8642\n",
       "8      4929\n",
       "9      2744\n",
       "10     1674\n",
       "11      979\n",
       "12      647\n",
       "13      431\n",
       "14      277\n",
       "15      157\n",
       "16      125\n",
       "17       73\n",
       "18       55\n",
       "19       52\n",
       "20       20\n",
       "21       26\n",
       "22        8\n",
       "23        6\n",
       "24        6\n",
       "25        2\n",
       "26        3\n",
       "27        5\n",
       "28        2\n",
       "29        4\n",
       "31        2\n",
       "32        1\n",
       "35        2\n",
       "37        2\n",
       "42        1\n",
       "Name: itemID, dtype: int64"
      ]
     },
     "execution_count": 19,
     "metadata": {},
     "output_type": "execute_result"
    }
   ],
   "source": [
    "orders.groupby(['date', 'userID'])['itemID'].nunique().value_counts().sort_index()"
   ]
  },
  {
   "cell_type": "markdown",
   "id": "a257b31d",
   "metadata": {},
   "source": [
    "There are a few cases where the same item appears twice or thrice for a user on a certain date:"
   ]
  },
  {
   "cell_type": "code",
   "execution_count": 20,
   "id": "215be6e7",
   "metadata": {},
   "outputs": [
    {
     "data": {
      "text/plain": [
       "order\n",
       "1        1070752\n",
       "2            264\n",
       "3              4\n",
       "dtype: int64"
      ]
     },
     "execution_count": 20,
     "metadata": {},
     "output_type": "execute_result"
    }
   ],
   "source": [
    "orders.groupby(['date', 'userID', 'itemID']).nunique().value_counts()"
   ]
  },
  {
   "cell_type": "code",
   "execution_count": 21,
   "id": "dc002deb",
   "metadata": {},
   "outputs": [
    {
     "name": "stdout",
     "output_type": "stream",
     "text": [
      "There are 245 days in the dataset.\n"
     ]
    }
   ],
   "source": [
    "print('There are', orders['date'].nunique(), 'days in the dataset.')"
   ]
  },
  {
   "cell_type": "markdown",
   "id": "22432c9c",
   "metadata": {},
   "source": [
    "Most users order on several days, but not on many days overall:"
   ]
  },
  {
   "cell_type": "code",
   "execution_count": 22,
   "id": "7887a109",
   "metadata": {},
   "outputs": [
    {
     "data": {
      "text/plain": [
       "count    46138.0\n",
       "mean         7.8\n",
       "std          4.1\n",
       "min          1.0\n",
       "25%          5.0\n",
       "50%          7.0\n",
       "75%         10.0\n",
       "max         70.0\n",
       "Name: date, dtype: float64"
      ]
     },
     "execution_count": 22,
     "metadata": {},
     "output_type": "execute_result"
    }
   ],
   "source": [
    "orders.groupby('userID')['date'].nunique().describe().round(1)"
   ]
  },
  {
   "cell_type": "markdown",
   "id": "dfdfbc7b",
   "metadata": {},
   "source": [
    "In most of the cases, users order a particular item only on one day at all\n",
    "(so \"no replenishment\" would be a proper baseline for user-item combinations):"
   ]
  },
  {
   "cell_type": "code",
   "execution_count": 23,
   "id": "a3c4394a",
   "metadata": {},
   "outputs": [
    {
     "data": {
      "text/plain": [
       "1     783122\n",
       "2      78507\n",
       "3      21085\n",
       "4       7629\n",
       "5       3146\n",
       "6       1401\n",
       "7        703\n",
       "8        352\n",
       "9        183\n",
       "10       106\n",
       "11        80\n",
       "12        37\n",
       "13        21\n",
       "14        13\n",
       "15        14\n",
       "16         4\n",
       "17         5\n",
       "18         2\n",
       "19         5\n",
       "20         1\n",
       "21         2\n",
       "22         1\n",
       "23         2\n",
       "25         1\n",
       "26         2\n",
       "28         1\n",
       "29         1\n",
       "Name: date, dtype: int64"
      ]
     },
     "execution_count": 23,
     "metadata": {},
     "output_type": "execute_result"
    }
   ],
   "source": [
    "orders.groupby(['userID', 'itemID'])['date'].nunique().value_counts().sort_index()"
   ]
  },
  {
   "cell_type": "markdown",
   "id": "32a7f711",
   "metadata": {},
   "source": [
    "Each item in a transaction typically is ordered only a few times:"
   ]
  },
  {
   "cell_type": "code",
   "execution_count": 24,
   "id": "d0074d8a",
   "metadata": {},
   "outputs": [
    {
     "data": {
      "text/plain": [
       "1      846264\n",
       "2      143601\n",
       "3       40444\n",
       "4       17534\n",
       "5       12579\n",
       "6        4138\n",
       "7         895\n",
       "8        1793\n",
       "9          89\n",
       "10       2438\n",
       "11         75\n",
       "12        286\n",
       "13         27\n",
       "14         34\n",
       "15        285\n",
       "16         43\n",
       "17          8\n",
       "18         12\n",
       "19          4\n",
       "20        492\n",
       "21         12\n",
       "22         11\n",
       "23          3\n",
       "24         14\n",
       "25         87\n",
       "26          6\n",
       "27          1\n",
       "28          3\n",
       "29          1\n",
       "30        127\n",
       "31          4\n",
       "32          2\n",
       "34          1\n",
       "35          8\n",
       "40         48\n",
       "43          1\n",
       "48          1\n",
       "49          1\n",
       "50         90\n",
       "51          1\n",
       "60          9\n",
       "63          1\n",
       "65          1\n",
       "70          3\n",
       "75          1\n",
       "80          4\n",
       "85          1\n",
       "90          1\n",
       "93          1\n",
       "98          1\n",
       "100        52\n",
       "Name: order, dtype: int64"
      ]
     },
     "execution_count": 24,
     "metadata": {},
     "output_type": "execute_result"
    }
   ],
   "source": [
    "orders['order'].value_counts().sort_index()"
   ]
  },
  {
   "cell_type": "markdown",
   "id": "af8e559f",
   "metadata": {},
   "source": [
    "## Submission"
   ]
  },
  {
   "cell_type": "code",
   "execution_count": 25,
   "id": "258495c0",
   "metadata": {},
   "outputs": [
    {
     "data": {
      "text/html": [
       "<div>\n",
       "<style scoped>\n",
       "    .dataframe tbody tr th:only-of-type {\n",
       "        vertical-align: middle;\n",
       "    }\n",
       "\n",
       "    .dataframe tbody tr th {\n",
       "        vertical-align: top;\n",
       "    }\n",
       "\n",
       "    .dataframe thead th {\n",
       "        text-align: right;\n",
       "    }\n",
       "</style>\n",
       "<table border=\"1\" class=\"dataframe\">\n",
       "  <thead>\n",
       "    <tr style=\"text-align: right;\">\n",
       "      <th></th>\n",
       "      <th>userID</th>\n",
       "      <th>itemID</th>\n",
       "      <th>prediction</th>\n",
       "    </tr>\n",
       "  </thead>\n",
       "  <tbody>\n",
       "    <tr>\n",
       "      <th>0</th>\n",
       "      <td>0</td>\n",
       "      <td>20664</td>\n",
       "      <td>NaN</td>\n",
       "    </tr>\n",
       "    <tr>\n",
       "      <th>1</th>\n",
       "      <td>0</td>\n",
       "      <td>28231</td>\n",
       "      <td>NaN</td>\n",
       "    </tr>\n",
       "    <tr>\n",
       "      <th>2</th>\n",
       "      <td>13</td>\n",
       "      <td>2690</td>\n",
       "      <td>NaN</td>\n",
       "    </tr>\n",
       "    <tr>\n",
       "      <th>3</th>\n",
       "      <td>15</td>\n",
       "      <td>1299</td>\n",
       "      <td>NaN</td>\n",
       "    </tr>\n",
       "    <tr>\n",
       "      <th>4</th>\n",
       "      <td>15</td>\n",
       "      <td>20968</td>\n",
       "      <td>NaN</td>\n",
       "    </tr>\n",
       "    <tr>\n",
       "      <th>...</th>\n",
       "      <td>...</td>\n",
       "      <td>...</td>\n",
       "      <td>...</td>\n",
       "    </tr>\n",
       "    <tr>\n",
       "      <th>9995</th>\n",
       "      <td>46118</td>\n",
       "      <td>20106</td>\n",
       "      <td>NaN</td>\n",
       "    </tr>\n",
       "    <tr>\n",
       "      <th>9996</th>\n",
       "      <td>46124</td>\n",
       "      <td>19677</td>\n",
       "      <td>NaN</td>\n",
       "    </tr>\n",
       "    <tr>\n",
       "      <th>9997</th>\n",
       "      <td>46125</td>\n",
       "      <td>12878</td>\n",
       "      <td>NaN</td>\n",
       "    </tr>\n",
       "    <tr>\n",
       "      <th>9998</th>\n",
       "      <td>46127</td>\n",
       "      <td>7963</td>\n",
       "      <td>NaN</td>\n",
       "    </tr>\n",
       "    <tr>\n",
       "      <th>9999</th>\n",
       "      <td>46130</td>\n",
       "      <td>395</td>\n",
       "      <td>NaN</td>\n",
       "    </tr>\n",
       "  </tbody>\n",
       "</table>\n",
       "<p>10000 rows × 3 columns</p>\n",
       "</div>"
      ],
      "text/plain": [
       "      userID  itemID  prediction\n",
       "0          0   20664         NaN\n",
       "1          0   28231         NaN\n",
       "2         13    2690         NaN\n",
       "3         15    1299         NaN\n",
       "4         15   20968         NaN\n",
       "...      ...     ...         ...\n",
       "9995   46118   20106         NaN\n",
       "9996   46124   19677         NaN\n",
       "9997   46125   12878         NaN\n",
       "9998   46127    7963         NaN\n",
       "9999   46130     395         NaN\n",
       "\n",
       "[10000 rows x 3 columns]"
      ]
     },
     "execution_count": 25,
     "metadata": {},
     "output_type": "execute_result"
    }
   ],
   "source": [
    "submission"
   ]
  },
  {
   "cell_type": "markdown",
   "id": "c5172483",
   "metadata": {},
   "source": [
    "As stated in the task, the users and items in the `submission` file are a subset of those in the `orders` file:"
   ]
  },
  {
   "cell_type": "code",
   "execution_count": 26,
   "id": "398f6b00",
   "metadata": {},
   "outputs": [
    {
     "data": {
      "text/plain": [
       "True"
      ]
     },
     "execution_count": 26,
     "metadata": {},
     "output_type": "execute_result"
    }
   ],
   "source": [
    "pd.Series(submission['userID'].unique()).isin(orders['userID']).all()"
   ]
  },
  {
   "cell_type": "code",
   "execution_count": 27,
   "id": "f0fea7b3",
   "metadata": {},
   "outputs": [
    {
     "data": {
      "text/plain": [
       "True"
      ]
     },
     "execution_count": 27,
     "metadata": {},
     "output_type": "execute_result"
    }
   ],
   "source": [
    "pd.Series(submission['itemID'].unique()).isin(orders['itemID']).all()"
   ]
  },
  {
   "cell_type": "markdown",
   "id": "7bb44eb2",
   "metadata": {},
   "source": [
    "In fact, each user-item combination in the `submission` file occured at least once in the `orders` file:"
   ]
  },
  {
   "cell_type": "code",
   "execution_count": 28,
   "id": "4e52acf7",
   "metadata": {},
   "outputs": [
    {
     "data": {
      "text/plain": [
       "True"
      ]
     },
     "execution_count": 28,
     "metadata": {},
     "output_type": "execute_result"
    }
   ],
   "source": [
    "len(submission[['userID', 'itemID']].merge(orders[['userID', 'itemID']].drop_duplicates())) == len(submission)"
   ]
  },
  {
   "cell_type": "code",
   "execution_count": 29,
   "id": "e6e4575f",
   "metadata": {},
   "outputs": [
    {
     "name": "stdout",
     "output_type": "stream",
     "text": [
      "7251 out of 46138 users.\n",
      "3856 out of 31756 items.\n"
     ]
    }
   ],
   "source": [
    "print(submission['userID'].nunique(), 'out of', orders['userID'].nunique(), 'users.')\n",
    "print(submission['itemID'].nunique(), 'out of', orders['itemID'].nunique(), 'items.')"
   ]
  },
  {
   "cell_type": "markdown",
   "id": "00649ed1",
   "metadata": {},
   "source": [
    "Naturally, each user-item combination in the `submission` file only occurs once:"
   ]
  },
  {
   "cell_type": "code",
   "execution_count": 30,
   "id": "76aef537",
   "metadata": {},
   "outputs": [
    {
     "data": {
      "text/plain": [
       "True"
      ]
     },
     "execution_count": 30,
     "metadata": {},
     "output_type": "execute_result"
    }
   ],
   "source": [
    "(submission.groupby(['userID', 'itemID']).size() == 1).all()"
   ]
  }
 ],
 "metadata": {
  "kernelspec": {
   "display_name": "ds-lab-2022-kernel",
   "language": "python",
   "name": "ds-lab-2022-kernel"
  },
  "language_info": {
   "codemirror_mode": {
    "name": "ipython",
    "version": 3
   },
   "file_extension": ".py",
   "mimetype": "text/x-python",
   "name": "python",
   "nbconvert_exporter": "python",
   "pygments_lexer": "ipython3",
   "version": "3.8.10"
  }
 },
 "nbformat": 4,
 "nbformat_minor": 5
}
